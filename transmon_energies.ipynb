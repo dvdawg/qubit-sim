{
 "cells": [
  {
   "cell_type": "code",
   "execution_count": 3,
   "metadata": {},
   "outputs": [],
   "source": [
    "%matplotlib qtagg\n",
    "import numpy as np\n",
    "from scipy import constants\n",
    "import matplotlib.pyplot as plt\n"
   ]
  },
  {
   "cell_type": "code",
   "execution_count": null,
   "metadata": {},
   "outputs": [],
   "source": [
    "E_J = 0.304*np.pi\n",
    "E_C = 0.0038*np.pi\n",
    "n = 500\n",
    "\n",
    "disc_flux = np.linspace(-3/4*np.pi, 3/4*np.pi, n)\n",
    "h = disc_flux[1] - disc_flux[0]\n",
    "nhat = (np.diag(np.ones(n - 1), k=1) + np.diag(-2 * np.ones(n)) + np.diag(np.ones(n - 1), k=-1)) / h**2\n",
    "H = -4 * E_C * nhat - E_J * np.diag(np.cos(disc_flux))\n",
    "eigenvals, eigenvects = np.linalg.eig(H)\n",
    "ct = np.argsort(eigenvals)\n",
    "eigvals = eigenvals[ct]\n",
    "eigvects = eigenvects[:, ct]\n",
    "\n",
    "fig, ax = plt.subplots(figsize=(10, 10))\n",
    "ax.plot(disc_flux, -E_J*np.cos(disc_flux) / E_J)\n",
    "for i in range(7):\n",
    "    ax.plot(disc_flux, (eigvects[:, i] + eigvals[i]) / E_J, label=f\"|{i}⟩\")\n",
    "    ax.axhline(y=(eigvals[i]/E_J), color='#808080', linestyle=':')\n",
    "    ax.set_xlabel(\"phase ϕ\")\n",
    "ax.legend()\n"
   ]
  },
  {
   "cell_type": "code",
   "execution_count": null,
   "metadata": {},
   "outputs": [],
   "source": [
    "omega_r = 1\n",
    "a = 1\n",
    "a_dag = 1\n",
    "H = constants.hbar * omega_r"
   ]
  }
 ],
 "metadata": {
  "kernelspec": {
   "display_name": "base",
   "language": "python",
   "name": "python3"
  },
  "language_info": {
   "codemirror_mode": {
    "name": "ipython",
    "version": 3
   },
   "file_extension": ".py",
   "mimetype": "text/x-python",
   "name": "python",
   "nbconvert_exporter": "python",
   "pygments_lexer": "ipython3",
   "version": "3.12.7"
  }
 },
 "nbformat": 4,
 "nbformat_minor": 2
}
