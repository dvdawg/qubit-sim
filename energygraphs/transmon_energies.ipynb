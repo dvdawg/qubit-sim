{
 "cells": [
  {
   "cell_type": "code",
   "execution_count": 25,
   "metadata": {},
   "outputs": [],
   "source": [
    "%matplotlib qtagg\n",
    "import numpy as np\n",
    "from scipy import constants\n",
    "from scipy.special import hermite\n",
    "import matplotlib.pyplot as plt\n"
   ]
  },
  {
   "cell_type": "code",
   "execution_count": null,
   "metadata": {},
   "outputs": [
    {
     "name": "stderr",
     "output_type": "stream",
     "text": [
      "/var/folders/x1/7tlj0t1s7358jwsxp29p8p6m0000gn/T/ipykernel_80259/1458575849.py:9: DeprecationWarning: `np.math` is a deprecated alias for the standard library `math` module (Deprecated Numpy 1.25). Replace usages of `np.math` with `math`\n",
      "  coeff = 1.0 / np.sqrt(2**n * np.math.factorial(n)) * (C * omega_r / (np.pi * hbar))**0.25\n"
     ]
    }
   ],
   "source": [
    "C = 1.0\n",
    "omega_r = 2.0\n",
    "hbar = 1.0 \n",
    "\n",
    "def potential_energy(flux):\n",
    "    return 0.5 * C * omega_r**2 * flux**2\n",
    "\n",
    "def wavefunction(n, flux):\n",
    "    coeff = 1.0 / np.sqrt(2**n * np.math.factorial(n)) * (C * omega_r / (np.pi * hbar))**0.25\n",
    "    hermite_poly = hermite(n)(np.sqrt(C * omega_r / hbar) * flux)\n",
    "    gaussian = np.exp(-0.5 * C * omega_r / hbar * flux**2)\n",
    "    return coeff * hermite_poly * gaussian\n",
    "\n",
    "flux = np.linspace(-np.pi, np.pi, 1000)\n",
    "V = potential_energy(flux)\n",
    "num_levels = 7 \n",
    "energy_levels = [hbar * omega_r * (n + 0.5) for n in range(num_levels)]\n",
    "\n",
    "plt.figure(figsize=(10, 10))\n",
    "plt.plot(flux, V)\n",
    "\n",
    "for i, E in enumerate(energy_levels):\n",
    "    plt.hlines(E, flux[0], flux[-1], colors=\"#808080\", linestyles=\":\")\n",
    "    psi_n = wavefunction(i, flux) + E\n",
    "    plt.plot(flux, psi_n, label=f\"|{i}⟩\")\n",
    "plt.xlabel(\"phase\")\n",
    "plt.legend()\n",
    "plt.show()\n"
   ]
  }
 ],
 "metadata": {
  "kernelspec": {
   "display_name": "base",
   "language": "python",
   "name": "python3"
  },
  "language_info": {
   "codemirror_mode": {
    "name": "ipython",
    "version": 3
   },
   "file_extension": ".py",
   "mimetype": "text/x-python",
   "name": "python",
   "nbconvert_exporter": "python",
   "pygments_lexer": "ipython3",
   "version": "3.12.7"
  }
 },
 "nbformat": 4,
 "nbformat_minor": 2
}
